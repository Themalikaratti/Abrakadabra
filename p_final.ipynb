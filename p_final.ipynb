{
  "nbformat": 4,
  "nbformat_minor": 0,
  "metadata": {
    "colab": {
      "provenance": []
    },
    "kernelspec": {
      "name": "python3",
      "display_name": "Python 3"
    },
    "language_info": {
      "name": "python"
    }
  },
  "cells": [
    {
      "cell_type": "code",
      "execution_count": 1,
      "metadata": {
        "colab": {
          "base_uri": "https://localhost:8080/"
        },
        "id": "TbAMPgqDhNuE",
        "outputId": "30e9f067-8ef5-4214-de57-6117351c946b"
      },
      "outputs": [
        {
          "output_type": "stream",
          "name": "stdout",
          "text": [
            "Collecting gymnasium\n",
            "  Downloading gymnasium-0.29.1-py3-none-any.whl (953 kB)\n",
            "\u001b[?25l     \u001b[90m━━━━━━━━━━━━━━━━━━━━━━━━━━━━━━━━━━━━━━━━\u001b[0m \u001b[32m0.0/953.9 kB\u001b[0m \u001b[31m?\u001b[0m eta \u001b[36m-:--:--\u001b[0m\r\u001b[2K     \u001b[91m━━━━━━━━━━━━━━━━━━━━━━━━━━━━━━\u001b[0m\u001b[90m╺\u001b[0m\u001b[90m━━━━━━━\u001b[0m \u001b[32m757.8/953.9 kB\u001b[0m \u001b[31m22.6 MB/s\u001b[0m eta \u001b[36m0:00:01\u001b[0m\r\u001b[2K     \u001b[90m━━━━━━━━━━━━━━━━━━━━━━━━━━━━━━━━━━━━━━\u001b[0m \u001b[32m953.9/953.9 kB\u001b[0m \u001b[31m19.6 MB/s\u001b[0m eta \u001b[36m0:00:00\u001b[0m\n",
            "\u001b[?25hRequirement already satisfied: numpy>=1.21.0 in /usr/local/lib/python3.10/dist-packages (from gymnasium) (1.23.5)\n",
            "Requirement already satisfied: cloudpickle>=1.2.0 in /usr/local/lib/python3.10/dist-packages (from gymnasium) (2.2.1)\n",
            "Requirement already satisfied: typing-extensions>=4.3.0 in /usr/local/lib/python3.10/dist-packages (from gymnasium) (4.5.0)\n",
            "Collecting farama-notifications>=0.0.1 (from gymnasium)\n",
            "  Downloading Farama_Notifications-0.0.4-py3-none-any.whl (2.5 kB)\n",
            "Installing collected packages: farama-notifications, gymnasium\n",
            "Successfully installed farama-notifications-0.0.4 gymnasium-0.29.1\n"
          ]
        }
      ],
      "source": [
        "pip install gymnasium"
      ]
    },
    {
      "cell_type": "code",
      "source": [
        "import gymnasium as gym\n",
        "import numpy as np"
      ],
      "metadata": {
        "id": "zRap4hLWhb5G"
      },
      "execution_count": 2,
      "outputs": []
    },
    {
      "cell_type": "code",
      "source": [
        "env=gym.make('CliffWalking-v0',render_mode='rgb_array')"
      ],
      "metadata": {
        "id": "dn_B-L_DheqD"
      },
      "execution_count": 3,
      "outputs": []
    },
    {
      "cell_type": "code",
      "source": [
        "n_observations=env.observation_space.n\n",
        "n_actions=env.action_space.n\n"
      ],
      "metadata": {
        "id": "cwjPrABFhhSF"
      },
      "execution_count": 4,
      "outputs": []
    },
    {
      "cell_type": "code",
      "source": [
        "print(\"num of states\",n_observations)\n",
        "print(\"num of actions\",n_actions)"
      ],
      "metadata": {
        "colab": {
          "base_uri": "https://localhost:8080/"
        },
        "id": "lhhFNgXzhi2N",
        "outputId": "7e0f0cae-1e95-48d2-92fd-3ee8ea2f696a"
      },
      "execution_count": 5,
      "outputs": [
        {
          "output_type": "stream",
          "name": "stdout",
          "text": [
            "num of states 48\n",
            "num of actions 4\n"
          ]
        }
      ]
    },
    {
      "cell_type": "code",
      "source": [
        "Q_table=np.zeros((n_observations,n_actions))\n",
        "Q_table"
      ],
      "metadata": {
        "colab": {
          "base_uri": "https://localhost:8080/"
        },
        "id": "XXcZT67Mhnb6",
        "outputId": "21cab71a-01c1-4ba4-c5ac-7cd7ce684809"
      },
      "execution_count": 6,
      "outputs": [
        {
          "output_type": "execute_result",
          "data": {
            "text/plain": [
              "array([[0., 0., 0., 0.],\n",
              "       [0., 0., 0., 0.],\n",
              "       [0., 0., 0., 0.],\n",
              "       [0., 0., 0., 0.],\n",
              "       [0., 0., 0., 0.],\n",
              "       [0., 0., 0., 0.],\n",
              "       [0., 0., 0., 0.],\n",
              "       [0., 0., 0., 0.],\n",
              "       [0., 0., 0., 0.],\n",
              "       [0., 0., 0., 0.],\n",
              "       [0., 0., 0., 0.],\n",
              "       [0., 0., 0., 0.],\n",
              "       [0., 0., 0., 0.],\n",
              "       [0., 0., 0., 0.],\n",
              "       [0., 0., 0., 0.],\n",
              "       [0., 0., 0., 0.],\n",
              "       [0., 0., 0., 0.],\n",
              "       [0., 0., 0., 0.],\n",
              "       [0., 0., 0., 0.],\n",
              "       [0., 0., 0., 0.],\n",
              "       [0., 0., 0., 0.],\n",
              "       [0., 0., 0., 0.],\n",
              "       [0., 0., 0., 0.],\n",
              "       [0., 0., 0., 0.],\n",
              "       [0., 0., 0., 0.],\n",
              "       [0., 0., 0., 0.],\n",
              "       [0., 0., 0., 0.],\n",
              "       [0., 0., 0., 0.],\n",
              "       [0., 0., 0., 0.],\n",
              "       [0., 0., 0., 0.],\n",
              "       [0., 0., 0., 0.],\n",
              "       [0., 0., 0., 0.],\n",
              "       [0., 0., 0., 0.],\n",
              "       [0., 0., 0., 0.],\n",
              "       [0., 0., 0., 0.],\n",
              "       [0., 0., 0., 0.],\n",
              "       [0., 0., 0., 0.],\n",
              "       [0., 0., 0., 0.],\n",
              "       [0., 0., 0., 0.],\n",
              "       [0., 0., 0., 0.],\n",
              "       [0., 0., 0., 0.],\n",
              "       [0., 0., 0., 0.],\n",
              "       [0., 0., 0., 0.],\n",
              "       [0., 0., 0., 0.],\n",
              "       [0., 0., 0., 0.],\n",
              "       [0., 0., 0., 0.],\n",
              "       [0., 0., 0., 0.],\n",
              "       [0., 0., 0., 0.]])"
            ]
          },
          "metadata": {},
          "execution_count": 6
        }
      ]
    },
    {
      "cell_type": "code",
      "source": [
        "Q_table.shape"
      ],
      "metadata": {
        "colab": {
          "base_uri": "https://localhost:8080/"
        },
        "id": "A99RLQr7hqDu",
        "outputId": "18202c57-4f2d-4049-ba63-50dae78e60ae"
      },
      "execution_count": 7,
      "outputs": [
        {
          "output_type": "execute_result",
          "data": {
            "text/plain": [
              "(48, 4)"
            ]
          },
          "metadata": {},
          "execution_count": 7
        }
      ]
    },
    {
      "cell_type": "code",
      "source": [
        "# Set the discount factor\n",
        "gamma = 0.99\n",
        "# Set the learning rate\n",
        "alpha = 0.1\n",
        "# Set the number of episodes to train for\n",
        "num_episodes = 10000\n",
        "# Set the maximum number of steps per episode\n",
        "max_steps_per_episode = 150\n",
        "# Set the exploration rate\n",
        "exploration_rate = 1.0\n",
        "min_exploration_rate=0.01\n",
        "max_exploration_rate=1.0\n",
        "# Set the exploration decay rate\n",
        "exploration_decay_rate = 0.01"
      ],
      "metadata": {
        "id": "fn2LsDKwhuJg"
      },
      "execution_count": 10,
      "outputs": []
    },
    {
      "cell_type": "code",
      "source": [
        "rewards_per_episodes=list()"
      ],
      "metadata": {
        "id": "ae4UOI3eh9j7"
      },
      "execution_count": 9,
      "outputs": []
    },
    {
      "cell_type": "code",
      "source": [
        "# first we iterate over episodes\n",
        "for e in range(num_episodes):\n",
        "  #we initialize the first state of the episode\n",
        "  state = env.reset()[0]\n",
        "  done = False\n",
        "\n",
        "  #sum the rewards\n",
        "  total_reward = 0\n",
        "\n",
        "  for i in range(max_steps_per_episode):\n",
        "\n",
        "    if np.random.uniform(3,0) < exploration_rate:\n",
        "        action = env.action_space.sample()\n",
        "    else:\n",
        "        action = np.argmax(Q_table[state,:])\n",
        "\n",
        "    # The environment runs the chosen action and returns\n",
        "    # the next state, a reward and true if the episode is ended.\n",
        "    next_state, reward, done, truncated , info = env.step(action)\n",
        "\n",
        "    #updating Q-table using the Q-learning iteration\n",
        "    Q_table[state, action] = (1-alpha) * Q_table[state, action] \\\n",
        "                       + alpha*(reward + gamma* np.max(Q_table[next_state,:]))\n",
        "    total_reward = total_reward + reward\n",
        "\n",
        "    state = next_state\n",
        "    # if episode is finished\n",
        "    if done:\n",
        "        break\n",
        "\n",
        "  #updating the exploration probe using exponential decay formula\n",
        "  epsilon = exploration_rate = min_exploration_rate + \\\n",
        "    (max_exploration_rate - min_exploration_rate) * np.exp(-exploration_decay_rate*e)\n",
        "  rewards_per_episodes.append(total_reward)"
      ],
      "metadata": {
        "id": "biPQZFn8h_DL"
      },
      "execution_count": 12,
      "outputs": []
    },
    {
      "cell_type": "code",
      "source": [
        "len(rewards_per_episodes)"
      ],
      "metadata": {
        "colab": {
          "base_uri": "https://localhost:8080/"
        },
        "id": "_5rctxW1japb",
        "outputId": "b718efe0-762c-4d92-d749-74cf33a1c7b9"
      },
      "execution_count": 13,
      "outputs": [
        {
          "output_type": "execute_result",
          "data": {
            "text/plain": [
              "10000"
            ]
          },
          "metadata": {},
          "execution_count": 13
        }
      ]
    },
    {
      "cell_type": "code",
      "source": [
        "rewards_per_thousand_episodes=np.split(np.array(rewards_per_episodes),num_episodes/1000)"
      ],
      "metadata": {
        "id": "wOy2QeHyjgio"
      },
      "execution_count": 15,
      "outputs": []
    },
    {
      "cell_type": "code",
      "source": [
        "count=1000\n",
        "print('Average reward per thousand episodes')\n",
        "for r in rewards_per_thousand_episodes:\n",
        "  print(count,':',str(sum(r/1000)))\n",
        "  count+=1000"
      ],
      "metadata": {
        "colab": {
          "base_uri": "https://localhost:8080/"
        },
        "id": "MzNLc12ujkO8",
        "outputId": "43ce667f-5aab-4861-f225-ee2a15bc4bf3"
      },
      "execution_count": 24,
      "outputs": [
        {
          "output_type": "stream",
          "name": "stdout",
          "text": [
            "Average reward per thousand episodes\n",
            "1000 : -43.6889999999988\n",
            "2000 : -13.894999999999918\n",
            "3000 : -14.120999999999917\n",
            "4000 : -13.582999999999915\n",
            "5000 : -14.211999999999914\n",
            "6000 : -13.440999999999912\n",
            "7000 : -13.696999999999916\n",
            "8000 : -14.663999999999916\n",
            "9000 : -14.094999999999914\n",
            "10000 : -13.677999999999914\n"
          ]
        }
      ]
    },
    {
      "cell_type": "code",
      "source": [
        "print('updated Q-Table')\n",
        "print(Q_table)"
      ],
      "metadata": {
        "colab": {
          "base_uri": "https://localhost:8080/"
        },
        "id": "NW3Q8K7MjpTv",
        "outputId": "793286c9-e306-4120-f6b6-aa63e4c6d22a"
      },
      "execution_count": 25,
      "outputs": [
        {
          "output_type": "stream",
          "name": "stdout",
          "text": [
            "updated Q-Table\n",
            "[[ -10.49074437  -10.44982218  -10.44481755  -10.45857137]\n",
            " [ -10.09181311  -10.0574576   -10.0650409   -10.02555597]\n",
            " [  -9.4601066    -9.47497618   -9.45879948   -9.5448778 ]\n",
            " [  -8.85959795   -8.83299267   -8.82443267   -8.83651555]\n",
            " [  -8.20467091   -8.15862747   -8.14278795   -8.15948794]\n",
            " [  -7.42162454   -7.41174468   -7.49270876   -7.54101265]\n",
            " [  -6.72446737   -6.67871023   -6.69992711   -6.72719561]\n",
            " [  -6.00023812   -5.93149243   -5.96603301   -6.01602032]\n",
            " [  -5.22431241   -5.16923172   -5.16336959   -5.31689162]\n",
            " [  -4.46694135   -4.39316774   -4.41579651   -4.46272357]\n",
            " [  -3.67016553   -3.62295565   -3.6443644    -3.62317823]\n",
            " [  -2.89628602   -2.93483799   -2.87350376   -3.01554821]\n",
            " [ -10.83330948  -10.84025781  -10.88223638  -10.83229635]\n",
            " [ -10.32683129  -10.28858407  -10.34406456  -10.27697306]\n",
            " [  -9.63929431   -9.63729018   -9.68062675   -9.73289852]\n",
            " [  -8.90234254   -8.91394433   -8.96529585   -8.99616426]\n",
            " [  -8.16799682   -8.16142937   -8.21206663   -8.21432157]\n",
            " [  -7.36142936   -7.37050688   -7.37723563   -7.49610769]\n",
            " [  -6.59257325   -6.57229055   -6.58180006   -6.63118154]\n",
            " [  -5.78233498   -5.706178     -5.71764797   -5.87655199]\n",
            " [  -4.92505838   -4.82745399   -4.82671898   -4.8340483 ]\n",
            " [  -3.98185675   -3.90973311   -3.91044369   -4.0216553 ]\n",
            " [  -3.13836734   -2.96087159   -2.96175175   -3.03879705]\n",
            " [  -2.16829213   -2.14251009   -1.98989754   -2.11891235]\n",
            " [ -11.49138735  -11.36151283  -12.68086241  -11.70535576]\n",
            " [ -10.75843927  -10.46617457 -110.18785771  -11.74616321]\n",
            " [ -10.07663529   -9.5617925  -108.19536314  -11.01319257]\n",
            " [  -9.16948338   -8.64827525 -106.16866674  -10.00827376]\n",
            " [  -8.38340874   -7.72553056  -96.18341875   -9.08964513]\n",
            " [  -7.39915199   -6.79346521  -95.78965908   -7.78539706]\n",
            " [  -7.00319486   -5.85198506  -82.35205383   -7.19614399]\n",
            " [  -5.7349892    -4.90099501  -94.41576104   -5.1724067 ]\n",
            " [  -5.16310073   -3.940399    -94.51981461   -5.24897938]\n",
            " [  -4.36859446   -2.9701      -93.29622224   -4.60774172]\n",
            " [  -3.39080871   -1.99        -94.3101925    -3.50011688]\n",
            " [  -2.27048106   -1.81815618   -1.           -2.47306842]\n",
            " [ -12.2478977  -109.98035621  -12.89337482  -12.83771934]\n",
            " [   0.            0.            0.            0.        ]\n",
            " [   0.            0.            0.            0.        ]\n",
            " [   0.            0.            0.            0.        ]\n",
            " [   0.            0.            0.            0.        ]\n",
            " [   0.            0.            0.            0.        ]\n",
            " [   0.            0.            0.            0.        ]\n",
            " [   0.            0.            0.            0.        ]\n",
            " [   0.            0.            0.            0.        ]\n",
            " [   0.            0.            0.            0.        ]\n",
            " [   0.            0.            0.            0.        ]\n",
            " [   0.            0.            0.            0.        ]]\n"
          ]
        }
      ]
    },
    {
      "cell_type": "code",
      "source": [
        "import time\n",
        "from IPython.display import clear_output"
      ],
      "metadata": {
        "id": "qKvCV-oKjtvW"
      },
      "execution_count": 18,
      "outputs": []
    },
    {
      "cell_type": "code",
      "source": [
        "%pip install gymnasium[classic_control] comet_ml\n",
        "import comet_ml\n",
        "comet_ml.init(project_name=\"CliffWalking-v0\")\n",
        "env = gym.wrappers.RecordVideo(env, 'gameplay video')"
      ],
      "metadata": {
        "colab": {
          "base_uri": "https://localhost:8080/"
        },
        "id": "lMpQZvTMjxcC",
        "outputId": "f19d1f7f-ce44-43f7-c070-27c158024971"
      },
      "execution_count": 22,
      "outputs": [
        {
          "output_type": "stream",
          "name": "stdout",
          "text": [
            "Requirement already satisfied: gymnasium[classic_control] in /usr/local/lib/python3.10/dist-packages (0.29.1)\n",
            "Requirement already satisfied: comet_ml in /usr/local/lib/python3.10/dist-packages (3.33.10)\n",
            "Requirement already satisfied: numpy>=1.21.0 in /usr/local/lib/python3.10/dist-packages (from gymnasium[classic_control]) (1.23.5)\n",
            "Requirement already satisfied: cloudpickle>=1.2.0 in /usr/local/lib/python3.10/dist-packages (from gymnasium[classic_control]) (2.2.1)\n",
            "Requirement already satisfied: typing-extensions>=4.3.0 in /usr/local/lib/python3.10/dist-packages (from gymnasium[classic_control]) (4.5.0)\n",
            "Requirement already satisfied: farama-notifications>=0.0.1 in /usr/local/lib/python3.10/dist-packages (from gymnasium[classic_control]) (0.0.4)\n",
            "Requirement already satisfied: pygame>=2.1.3 in /usr/local/lib/python3.10/dist-packages (from gymnasium[classic_control]) (2.5.1)\n",
            "Requirement already satisfied: jsonschema!=3.1.0,>=2.6.0 in /usr/local/lib/python3.10/dist-packages (from comet_ml) (4.19.0)\n",
            "Requirement already satisfied: psutil>=5.6.3 in /usr/local/lib/python3.10/dist-packages (from comet_ml) (5.9.5)\n",
            "Requirement already satisfied: python-box<7.0.0 in /usr/local/lib/python3.10/dist-packages (from comet_ml) (6.1.0)\n",
            "Requirement already satisfied: requests-toolbelt>=0.8.0 in /usr/local/lib/python3.10/dist-packages (from comet_ml) (1.0.0)\n",
            "Requirement already satisfied: requests>=2.18.4 in /usr/local/lib/python3.10/dist-packages (from comet_ml) (2.31.0)\n",
            "Requirement already satisfied: semantic-version>=2.8.0 in /usr/local/lib/python3.10/dist-packages (from comet_ml) (2.10.0)\n",
            "Requirement already satisfied: sentry-sdk>=1.1.0 in /usr/local/lib/python3.10/dist-packages (from comet_ml) (1.30.0)\n",
            "Requirement already satisfied: simplejson in /usr/local/lib/python3.10/dist-packages (from comet_ml) (3.19.1)\n",
            "Requirement already satisfied: six in /usr/local/lib/python3.10/dist-packages (from comet_ml) (1.16.0)\n",
            "Requirement already satisfied: urllib3>=1.21.1 in /usr/local/lib/python3.10/dist-packages (from comet_ml) (2.0.4)\n",
            "Requirement already satisfied: websocket-client<1.4.0,>=0.55.0 in /usr/local/lib/python3.10/dist-packages (from comet_ml) (1.3.3)\n",
            "Requirement already satisfied: wrapt>=1.11.2 in /usr/local/lib/python3.10/dist-packages (from comet_ml) (1.15.0)\n",
            "Requirement already satisfied: wurlitzer>=1.0.2 in /usr/local/lib/python3.10/dist-packages (from comet_ml) (3.0.3)\n",
            "Requirement already satisfied: everett[ini]<3.2.0,>=1.0.1 in /usr/local/lib/python3.10/dist-packages (from comet_ml) (3.1.0)\n",
            "Requirement already satisfied: dulwich!=0.20.33,>=0.20.6 in /usr/local/lib/python3.10/dist-packages (from comet_ml) (0.21.6)\n",
            "Requirement already satisfied: rich>=13.3.2 in /usr/local/lib/python3.10/dist-packages (from comet_ml) (13.5.2)\n",
            "Requirement already satisfied: configobj in /usr/local/lib/python3.10/dist-packages (from everett[ini]<3.2.0,>=1.0.1->comet_ml) (5.0.8)\n",
            "Requirement already satisfied: attrs>=22.2.0 in /usr/local/lib/python3.10/dist-packages (from jsonschema!=3.1.0,>=2.6.0->comet_ml) (23.1.0)\n",
            "Requirement already satisfied: jsonschema-specifications>=2023.03.6 in /usr/local/lib/python3.10/dist-packages (from jsonschema!=3.1.0,>=2.6.0->comet_ml) (2023.7.1)\n",
            "Requirement already satisfied: referencing>=0.28.4 in /usr/local/lib/python3.10/dist-packages (from jsonschema!=3.1.0,>=2.6.0->comet_ml) (0.30.2)\n",
            "Requirement already satisfied: rpds-py>=0.7.1 in /usr/local/lib/python3.10/dist-packages (from jsonschema!=3.1.0,>=2.6.0->comet_ml) (0.10.2)\n",
            "Requirement already satisfied: charset-normalizer<4,>=2 in /usr/local/lib/python3.10/dist-packages (from requests>=2.18.4->comet_ml) (3.2.0)\n",
            "Requirement already satisfied: idna<4,>=2.5 in /usr/local/lib/python3.10/dist-packages (from requests>=2.18.4->comet_ml) (3.4)\n",
            "Requirement already satisfied: certifi>=2017.4.17 in /usr/local/lib/python3.10/dist-packages (from requests>=2.18.4->comet_ml) (2023.7.22)\n",
            "Requirement already satisfied: markdown-it-py>=2.2.0 in /usr/local/lib/python3.10/dist-packages (from rich>=13.3.2->comet_ml) (3.0.0)\n",
            "Requirement already satisfied: pygments<3.0.0,>=2.13.0 in /usr/local/lib/python3.10/dist-packages (from rich>=13.3.2->comet_ml) (2.16.1)\n",
            "Requirement already satisfied: mdurl~=0.1 in /usr/local/lib/python3.10/dist-packages (from markdown-it-py>=2.2.0->rich>=13.3.2->comet_ml) (0.1.2)\n"
          ]
        },
        {
          "output_type": "stream",
          "name": "stderr",
          "text": [
            "/usr/local/lib/python3.10/dist-packages/gymnasium/wrappers/record_video.py:94: UserWarning: \u001b[33mWARN: Overwriting existing videos at /content/gameplay video folder (try specifying a different `video_folder` for the `RecordVideo` wrapper if this is not desired)\u001b[0m\n",
            "  logger.warn(\n"
          ]
        }
      ]
    },
    {
      "cell_type": "code",
      "source": [
        "for episode in range(3):\n",
        "  state=env.reset()[0]\n",
        "  done=False\n",
        "  print('----------EPISODE:',episode+1,'---------\\n\\n\\n\\n')\n",
        "  time.sleep(1)\n",
        "\n",
        "  for step in range(max_steps_per_episode):\n",
        "    clear_output(wait=True)\n",
        "    print(env.render())\n",
        "    time.sleep(0.4)\n",
        "\n",
        "    action = np.argmax(Q_table[state,:])\n",
        "    new_state, reward, done, truncated, info = env.step(action)\n",
        "\n",
        "    if done:\n",
        "      clear_output(wait=True)\n",
        "      print(env.render())\n",
        "      if reward == -1:\n",
        "          print(\"****You reached the goal!****\")\n",
        "          time.sleep(3)\n",
        "      else:\n",
        "          print(\"****You fell!****\")\n",
        "          time.sleep(3)\n",
        "      clear_output(wait=True)\n",
        "      break\n",
        "\n",
        "    state=new_state\n",
        "\n",
        "env.close()"
      ],
      "metadata": {
        "colab": {
          "base_uri": "https://localhost:8080/"
        },
        "id": "gOU7YmzUk7QN",
        "outputId": "54d117df-f347-4b4c-e6ab-1b4f876ae781"
      },
      "execution_count": 23,
      "outputs": [
        {
          "output_type": "stream",
          "name": "stdout",
          "text": [
            "[[[ 91 150  97]\n",
            "  [ 91 150  97]\n",
            "  [ 91 150  97]\n",
            "  ...\n",
            "  [ 86 170  69]\n",
            "  [ 86 170  69]\n",
            "  [ 86 170  69]]\n",
            "\n",
            " [[ 91 150  97]\n",
            "  [ 91 150  97]\n",
            "  [ 91 150  97]\n",
            "  ...\n",
            "  [ 86 170  69]\n",
            "  [ 86 170  69]\n",
            "  [ 86 170  69]]\n",
            "\n",
            " [[ 91 150  97]\n",
            "  [ 91 150  97]\n",
            "  [ 98 166 105]\n",
            "  ...\n",
            "  [105 182  74]\n",
            "  [105 182  74]\n",
            "  [ 86 170  69]]\n",
            "\n",
            " ...\n",
            "\n",
            " [[ 86 170  69]\n",
            "  [ 86 170  69]\n",
            "  [ 93 188  74]\n",
            "  ...\n",
            "  [ 91 150  97]\n",
            "  [ 91 150  97]\n",
            "  [ 91 150  97]]\n",
            "\n",
            " [[ 86 170  69]\n",
            "  [ 86 170  69]\n",
            "  [ 93 188  74]\n",
            "  ...\n",
            "  [ 91 150  97]\n",
            "  [ 91 150  97]\n",
            "  [ 91 150  97]]\n",
            "\n",
            " [[ 86 170  69]\n",
            "  [ 86 170  69]\n",
            "  [ 86 170  69]\n",
            "  ...\n",
            "  [ 91 150  97]\n",
            "  [ 91 150  97]\n",
            "  [ 91 150  97]]]\n",
            "****You reached the goal!****\n"
          ]
        }
      ]
    }
  ]
}